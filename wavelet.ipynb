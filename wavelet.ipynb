{
 "cells": [
  {
   "cell_type": "code",
   "execution_count": 2,
   "id": "66830227",
   "metadata": {},
   "outputs": [],
   "source": [
    "# https://github.com/CSchoel/learn-wavelets/blob/main/wavelet-introduction.ipynb\n",
    "\n",
    "import numpy as np\n",
    "from matplotlib import pyplot as plt"
   ]
  },
  {
   "cell_type": "code",
   "execution_count": null,
   "id": "056688e9",
   "metadata": {},
   "outputs": [],
   "source": [
    "def mexican_hat(x, mu, sigma):\n",
    "    c1 = 2.0 / (np.sqrt(3 * sigma) * np.pi**0.25)\n",
    "    c2 = 1.0 - ((x - mu) ** 2 / sigma**2)\n",
    "    c3 = np.exp(-((x - mu) ** 2) / 2.0 * sigma**2)\n",
    "    return c1 * c2 * c3\n",
    "\n",
    "\n",
    "xvals = np.arange(-10, 10, 0.1)\n",
    "yvals = mexican_hat(xvals, 1, 1)\n",
    "plt.plot(xvals, yvals)"
   ]
  },
  {
   "cell_type": "code",
   "execution_count": null,
   "id": "4e82147e",
   "metadata": {},
   "outputs": [],
   "source": [
    "def gauss(x, mu, sigma):\n",
    "    c1 = 1.0 / (sigma * np.sqrt(2.0 * np.pi))\n",
    "    c2 = np.exp(-((x - mu) ** 2) / (2.0 * sigma**2))\n",
    "    return c1 * c2\n",
    "\n",
    "\n",
    "xvals = np.arange(-10, 10, 0.1)\n",
    "yvals = gauss(xvals, 1, 1)\n",
    "plt.plot(xvals, yvals)\n",
    "# first derivative\n",
    "gd = yvals[1:] - yvals[:-1]\n",
    "plt.plot(xvals[:-1], gd)\n",
    "# second derivative\n",
    "gdd = gd[1:] - gd[:-1]\n",
    "plt.plot(xvals[:-2], gdd)"
   ]
  },
  {
   "cell_type": "code",
   "execution_count": null,
   "id": "f8caeaaf",
   "metadata": {},
   "outputs": [],
   "source": [
    "def hamming(n):\n",
    "    return 0.54 - 0.46 * np.cos(2 * np.pi * np.arange(n) / (n - 1))\n",
    "\n",
    "\n",
    "h = hamming(100)\n",
    "plt.plot(h)"
   ]
  },
  {
   "cell_type": "code",
   "execution_count": null,
   "id": "bb87cdb1",
   "metadata": {},
   "outputs": [],
   "source": [
    "def sound(freq, dur, res):\n",
    "    ln = dur * res\n",
    "    sound = np.sin(np.arange(ln) * 2 * np.pi * freq / res)\n",
    "    sound = sound * hamming(ln)\n",
    "    return sound\n",
    "\n",
    "\n",
    "sound_100 = sound(100, 0.5, 1000)\n",
    "plt.plot(sound_100)"
   ]
  },
  {
   "cell_type": "code",
   "execution_count": null,
   "id": "8e2e3fb2",
   "metadata": {},
   "outputs": [],
   "source": [
    "def add_sound(audio, loc, freq, dur, res):\n",
    "    audio[int(loc) : int(loc + dur * res)] += sound(freq, dur, res)\n",
    "\n",
    "\n",
    "res = 10000\n",
    "audio = np.zeros(15000)\n",
    "add_sound(audio, 1000, 100, 0.5, res)\n",
    "add_sound(audio, 3000, 130, 0.5, res)\n",
    "add_sound(audio, 2000, 50, 1, res)\n",
    "add_sound(audio, 10000, 150, 0.5, res)\n",
    "plt.plot(audio)"
   ]
  },
  {
   "cell_type": "code",
   "execution_count": null,
   "id": "876f8bdc",
   "metadata": {},
   "outputs": [],
   "source": [
    "fourier = np.fft.fft(audio)\n",
    "xvals = np.fft.fftfreq(len(audio)) * res\n",
    "idx = np.where(np.abs(xvals) < 200)\n",
    "plt.plot(xvals[idx], np.abs(fourier)[idx])"
   ]
  },
  {
   "cell_type": "code",
   "execution_count": 13,
   "id": "ed7f974b",
   "metadata": {},
   "outputs": [],
   "source": [
    "# windowed Fourier transform\n",
    "def fourier_w(signal, window_size):\n",
    "    out = np.zeros((len(signal), window_size))\n",
    "    window = hamming(window_size)\n"
   ]
  }
 ],
 "metadata": {
  "kernelspec": {
   "display_name": "dev",
   "language": "python",
   "name": "python3"
  },
  "language_info": {
   "codemirror_mode": {
    "name": "ipython",
    "version": 3
   },
   "file_extension": ".py",
   "mimetype": "text/x-python",
   "name": "python",
   "nbconvert_exporter": "python",
   "pygments_lexer": "ipython3",
   "version": "3.12.9"
  }
 },
 "nbformat": 4,
 "nbformat_minor": 5
}
